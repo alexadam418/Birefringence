{
 "cells": [
  {
   "cell_type": "code",
   "execution_count": 3,
   "metadata": {},
   "outputs": [],
   "source": [
    "from dolfinx.io import XDMFFile\n",
    "from dolfinx.mesh import meshtags_from_entities\n",
    "from dolfinx.cpp.mesh import cell_entity_type\n",
    "from dolfinx.io import distribute_entity_data\n",
    "from dolfinx.graph import adjacencylist\n",
    "from dolfinx.mesh import create_mesh\n",
    "from dolfinx.cpp.mesh import to_type\n",
    "from dolfinx.cpp.io import perm_gmsh\n",
    "import numpy\n",
    "from dolfinx.io import gmshio\n",
    "from mpi4py import MPI\n",
    "from dolfinx.io.gmshio import model_to_mesh\n",
    "import numpy as np\n",
    "import gmsh\n",
    "import warnings\n",
    "warnings.filterwarnings(\"ignore\")\n",
    "gmsh.initialize()"
   ]
  },
  {
   "cell_type": "code",
   "execution_count": 4,
   "metadata": {},
   "outputs": [],
   "source": [
    "gmsh.model.add(\"test_mass\")"
   ]
  },
  {
   "cell_type": "code",
   "execution_count": 5,
   "metadata": {},
   "outputs": [],
   "source": [
    "cad = gmsh.model.geo\n",
    "lc = 0.002\n"
   ]
  },
  {
   "cell_type": "code",
   "execution_count": 6,
   "metadata": {},
   "outputs": [
    {
     "data": {
      "text/plain": [
       "11"
      ]
     },
     "execution_count": 6,
     "metadata": {},
     "output_type": "execute_result"
    }
   ],
   "source": [
    "cad.addPoint(-0.05, 0.01, 0,lc, 1)\n",
    "cad.addPoint(0.05, 0.01, 0, lc, 2)\n",
    "cad.addPoint(0.05, -0.01, 0, lc, 3)\n",
    "cad.addPoint(-0.05, -0.01, 0, lc, 4)\n",
    "cad.addPoint(0,0,0, lc, 5)\n",
    "cad.addLine(2, 3, 1)\n",
    "cad.addLine(4, 1, 2)\n",
    "cad.addCircleArc(1, 5, 2, 3)\n",
    "cad.addCircleArc(3, 5, 4, 4)\n",
    "cad.addCurveLoop([3, 1, 4, 2 ], 10)\n",
    "cad.addPlaneSurface([10], 11)"
   ]
  },
  {
   "cell_type": "code",
   "execution_count": 7,
   "metadata": {},
   "outputs": [],
   "source": [
    "vol = cad.extrude([(2, 11)], 0,0,0.03 )"
   ]
  },
  {
   "cell_type": "code",
   "execution_count": 8,
   "metadata": {},
   "outputs": [],
   "source": [
    "cad.synchronize()"
   ]
  },
  {
   "cell_type": "code",
   "execution_count": 9,
   "metadata": {},
   "outputs": [
    {
     "name": "stdout",
     "output_type": "stream",
     "text": [
      "[(2, 33), (3, 1), (2, 20), (2, 24), (2, 28), (2, 32)]\n"
     ]
    }
   ],
   "source": [
    "print(vol)"
   ]
  },
  {
   "cell_type": "code",
   "execution_count": 10,
   "metadata": {},
   "outputs": [
    {
     "data": {
      "text/plain": [
       "42"
      ]
     },
     "execution_count": 10,
     "metadata": {},
     "output_type": "execute_result"
    }
   ],
   "source": [
    "gmsh.model.addPhysicalGroup(3, [vol[1][1]], 41, \"volume\")\n",
    "gmsh.model.addPhysicalGroup(2, [vol[0][1],vol[2][1], vol[3][1], vol[4][1], vol[5][1]], 42, \"surface\")\n",
    "\n",
    "\n",
    "\n"
   ]
  },
  {
   "cell_type": "code",
   "execution_count": 11,
   "metadata": {},
   "outputs": [
    {
     "name": "stdout",
     "output_type": "stream",
     "text": [
      "Info    : Meshing 1D...\n",
      "Info    : [  0%] Meshing curve 1 (Line)\n",
      "Info    : [ 10%] Meshing curve 2 (Line)\n",
      "Info    : [ 20%] Meshing curve 3 (Circle)\n",
      "Info    : [ 30%] Meshing curve 4 (Circle)\n",
      "Info    : [ 40%] Meshing curve 13 (Circle)\n",
      "Info    : [ 50%] Meshing curve 14 (Line)\n",
      "Info    : [ 50%] Meshing curve 15 (Circle)\n",
      "Info    : [ 60%] Meshing curve 16 (Line)\n",
      "Info    : [ 70%] Meshing curve 18 (Line)\n",
      "Info    : [ 80%] Meshing curve 19 (Line)\n",
      "Info    : [ 90%] Meshing curve 23 (Line)\n",
      "Info    : [100%] Meshing curve 27 (Line)\n",
      "Info    : Done meshing 1D (Wall 0.0017858s, CPU 0.003324s)\n",
      "Info    : Meshing 2D...\n",
      "Info    : [  0%] Meshing surface 11 (Plane, Frontal-Delaunay)\n"
     ]
    },
    {
     "name": "stdout",
     "output_type": "stream",
     "text": [
      "Info    : [ 20%] Meshing surface 20 (Surface, Frontal-Delaunay)\n",
      "Info    : [ 40%] Meshing surface 24 (Surface, Frontal-Delaunay)\n",
      "Info    : [ 50%] Meshing surface 28 (Surface, Frontal-Delaunay)\n",
      "Info    : [ 70%] Meshing surface 32 (Surface, Frontal-Delaunay)\n",
      "Info    : [ 90%] Meshing surface 33 (Plane, Frontal-Delaunay)\n",
      "Info    : Done meshing 2D (Wall 0.456136s, CPU 0.453697s)\n",
      "Info    : Meshing 3D...\n",
      "Info    : 3D Meshing 1 volume with 1 connected component\n",
      "Info    : Tetrahedrizing 7780 nodes...\n",
      "Info    : Done tetrahedrizing 7788 nodes (Wall 0.164416s, CPU 0.164558s)\n",
      "Info    : Reconstructing mesh...\n",
      "Info    :  - Creating surface mesh\n",
      "Info    :  - Identifying boundary edges\n",
      "Info    :  - Recovering boundary\n",
      "Info    : Done reconstructing mesh (Wall 0.43583s, CPU 0.401114s)\n",
      "Info    : Found volume 1\n",
      "Info    : It. 0 - 0 nodes created - worst tet radius 7.63349 (nodes removed 0 0)\n",
      "Info    : It. 500 - 500 nodes created - worst tet radius 2.96923 (nodes removed 0 0)\n",
      "Info    : It. 1000 - 1000 nodes created - worst tet radius 2.47766 (nodes removed 0 0)\n",
      "Info    : It. 1500 - 1500 nodes created - worst tet radius 2.16711 (nodes removed 0 0)\n",
      "Info    : It. 2000 - 2000 nodes created - worst tet radius 1.99144 (nodes removed 0 0)\n",
      "Info    : It. 2500 - 2500 nodes created - worst tet radius 1.86805 (nodes removed 0 0)\n",
      "Info    : It. 3000 - 3000 nodes created - worst tet radius 1.76996 (nodes removed 0 0)\n",
      "Info    : It. 3500 - 3500 nodes created - worst tet radius 1.68729 (nodes removed 0 0)\n",
      "Info    : It. 4000 - 4000 nodes created - worst tet radius 1.6229 (nodes removed 0 0)\n",
      "Info    : It. 4500 - 4500 nodes created - worst tet radius 1.56169 (nodes removed 0 0)\n",
      "Info    : It. 5000 - 5000 nodes created - worst tet radius 1.51111 (nodes removed 0 0)\n",
      "Info    : It. 5500 - 5500 nodes created - worst tet radius 1.46746 (nodes removed 0 0)\n",
      "Info    : It. 6000 - 6000 nodes created - worst tet radius 1.42998 (nodes removed 0 0)\n",
      "Info    : It. 6500 - 6500 nodes created - worst tet radius 1.39583 (nodes removed 0 0)\n",
      "Info    : It. 7000 - 7000 nodes created - worst tet radius 1.36494 (nodes removed 0 0)\n",
      "Info    : It. 7500 - 7500 nodes created - worst tet radius 1.33635 (nodes removed 0 0)\n",
      "Info    : It. 8000 - 8000 nodes created - worst tet radius 1.30683 (nodes removed 0 0)\n",
      "Info    : It. 8500 - 8500 nodes created - worst tet radius 1.283 (nodes removed 0 0)\n",
      "Info    : It. 9000 - 9000 nodes created - worst tet radius 1.25897 (nodes removed 0 0)\n",
      "Info    : It. 9500 - 9500 nodes created - worst tet radius 1.23837 (nodes removed 0 0)\n",
      "Info    : It. 10000 - 10000 nodes created - worst tet radius 1.2193 (nodes removed 0 0)\n",
      "Info    : It. 10500 - 10500 nodes created - worst tet radius 1.20215 (nodes removed 0 0)\n",
      "Info    : It. 11000 - 11000 nodes created - worst tet radius 1.18392 (nodes removed 0 0)\n",
      "Info    : It. 11500 - 11500 nodes created - worst tet radius 1.16815 (nodes removed 0 0)\n",
      "Info    : It. 12000 - 12000 nodes created - worst tet radius 1.15173 (nodes removed 0 0)\n",
      "Info    : It. 12500 - 12500 nodes created - worst tet radius 1.1366 (nodes removed 0 0)\n",
      "Info    : It. 13000 - 13000 nodes created - worst tet radius 1.12297 (nodes removed 0 0)\n",
      "Info    : It. 13500 - 13500 nodes created - worst tet radius 1.11027 (nodes removed 0 0)\n",
      "Info    : It. 14000 - 14000 nodes created - worst tet radius 1.09769 (nodes removed 0 0)\n",
      "Info    : It. 14500 - 14500 nodes created - worst tet radius 1.08637 (nodes removed 0 0)\n",
      "Info    : It. 15000 - 15000 nodes created - worst tet radius 1.07471 (nodes removed 0 0)\n",
      "Info    : It. 15500 - 15500 nodes created - worst tet radius 1.06299 (nodes removed 0 0)\n",
      "Info    : It. 16000 - 16000 nodes created - worst tet radius 1.05333 (nodes removed 0 0)\n",
      "Info    : It. 16500 - 16500 nodes created - worst tet radius 1.04301 (nodes removed 0 0)\n",
      "Info    : It. 17000 - 17000 nodes created - worst tet radius 1.03426 (nodes removed 0 0)\n",
      "Info    : It. 17500 - 17500 nodes created - worst tet radius 1.02519 (nodes removed 0 0)\n",
      "Info    : It. 18000 - 18000 nodes created - worst tet radius 1.01685 (nodes removed 0 0)\n",
      "Info    : It. 18500 - 18500 nodes created - worst tet radius 1.0084 (nodes removed 0 0)\n",
      "Info    : 3D refinement terminated (26740 nodes total):\n",
      "Info    :  - 0 Delaunay cavities modified for star shapeness\n",
      "Info    :  - 0 nodes could not be inserted\n",
      "Info    :  - 144924 tetrahedra created in 1.67764 sec. (86385 tets/s)\n",
      "Info    : Done meshing 3D (Wall 2.80513s, CPU 2.77791s)\n",
      "Info    : Optimizing mesh...\n",
      "Info    : Optimizing volume 1\n",
      "Info    : Optimization starts (volume = 0.00024421) with worst = 0.0102951 / average = 0.783267:\n",
      "Info    : 0.00 < quality < 0.10 :       276 elements\n",
      "Info    : 0.10 < quality < 0.20 :       956 elements\n",
      "Info    : 0.20 < quality < 0.30 :      1551 elements\n",
      "Info    : 0.30 < quality < 0.40 :      2506 elements\n",
      "Info    : 0.40 < quality < 0.50 :      3815 elements\n",
      "Info    : 0.50 < quality < 0.60 :      6373 elements\n",
      "Info    : 0.60 < quality < 0.70 :     13637 elements\n",
      "Info    : 0.70 < quality < 0.80 :     32637 elements\n",
      "Info    : 0.80 < quality < 0.90 :     55030 elements\n",
      "Info    : 0.90 < quality < 1.00 :     28143 elements\n",
      "Info    : 2751 edge swaps, 102 node relocations (volume = 0.00024421): worst = 0.11538 / average = 0.795313 (Wall 0.132216s, CPU 0.132727s)\n",
      "Info    : 2774 edge swaps, 102 node relocations (volume = 0.00024421): worst = 0.261561 / average = 0.795416 (Wall 0.174328s, CPU 0.174858s)\n",
      "Info    : No ill-shaped tets in the mesh :-)\n",
      "Info    : 0.00 < quality < 0.10 :         0 elements\n",
      "Info    : 0.10 < quality < 0.20 :         0 elements\n",
      "Info    : 0.20 < quality < 0.30 :         2 elements\n",
      "Info    : 0.30 < quality < 0.40 :      2477 elements\n",
      "Info    : 0.40 < quality < 0.50 :      3660 elements\n",
      "Info    : 0.50 < quality < 0.60 :      6158 elements\n",
      "Info    : 0.60 < quality < 0.70 :     13589 elements\n",
      "Info    : 0.70 < quality < 0.80 :     33023 elements\n",
      "Info    : 0.80 < quality < 0.90 :     55540 elements\n",
      "Info    : 0.90 < quality < 1.00 :     27990 elements\n",
      "Info    : Done optimizing mesh (Wall 0.530206s, CPU 0.512818s)\n",
      "Info    : 26742 nodes 158389 elements\n"
     ]
    }
   ],
   "source": [
    "gmsh.model.mesh.generate(3)"
   ]
  },
  {
   "cell_type": "code",
   "execution_count": 12,
   "metadata": {},
   "outputs": [
    {
     "name": "stdout",
     "output_type": "stream",
     "text": [
      "Info    : Writing 'mirror2.msh'...\n",
      "Info    : Done writing 'mirror2.msh'\n"
     ]
    }
   ],
   "source": [
    "gmsh.write('mirror2.msh')"
   ]
  },
  {
   "cell_type": "code",
   "execution_count": 13,
   "metadata": {},
   "outputs": [],
   "source": [
    "model_rank = 0\n",
    "domain, cell_tags, facet_tags = model_to_mesh(\n",
    "    gmsh.model, MPI.COMM_WORLD, model_rank,3)"
   ]
  },
  {
   "cell_type": "code",
   "execution_count": 14,
   "metadata": {},
   "outputs": [],
   "source": [
    "import pyvista\n",
    "from dolfinx import mesh, fem, plot, io, default_scalar_type\n",
    "from dolfinx.fem.petsc import LinearProblem\n",
    "from mpi4py import MPI\n",
    "import ufl\n",
    "import numpy as np\n",
    "E = 130e9\n",
    "nu = 0.27\n",
    "mu = E / (2.0 * (1.0 + nu))\n",
    "lambda_ = E * nu / ((1.0 + nu) * (1.0 - 2.0 * nu))\n",
    "rho = 2329\n",
    "g = 9.8"
   ]
  },
  {
   "cell_type": "code",
   "execution_count": 15,
   "metadata": {},
   "outputs": [],
   "source": [
    "V = fem.VectorFunctionSpace(domain, (\"Lagrange\", 1))\n",
    "    "
   ]
  },
  {
   "cell_type": "code",
   "execution_count": 16,
   "metadata": {},
   "outputs": [],
   "source": [
    "def clamped_boundary(x):\n",
    "    return np.logical_or(np.isclose(x[0], -0.05), np.isclose(x[0], 0.05))\n",
    "\n",
    "\n",
    "fdim = domain.topology.dim - 1\n",
    "boundary_facets = mesh.locate_entities_boundary(domain, fdim, clamped_boundary)\n",
    "\n"
   ]
  },
  {
   "cell_type": "code",
   "execution_count": 17,
   "metadata": {},
   "outputs": [],
   "source": [
    "u_D = np.array([0, 0, 0], dtype=default_scalar_type)\n"
   ]
  },
  {
   "cell_type": "code",
   "execution_count": 18,
   "metadata": {},
   "outputs": [],
   "source": [
    "bc = fem.dirichletbc(u_D, fem.locate_dofs_topological(V, fdim, boundary_facets), V)"
   ]
  },
  {
   "cell_type": "code",
   "execution_count": 19,
   "metadata": {},
   "outputs": [],
   "source": [
    "T = fem.Constant(domain, default_scalar_type((0, 0, 0)))"
   ]
  },
  {
   "cell_type": "code",
   "execution_count": 20,
   "metadata": {},
   "outputs": [],
   "source": [
    "ds = ufl.Measure(\"ds\", domain=domain)"
   ]
  },
  {
   "cell_type": "code",
   "execution_count": 21,
   "metadata": {},
   "outputs": [],
   "source": [
    "def epsilon(u):\n",
    "    return ufl.sym(ufl.grad(u))  # Equivalent to 0.5*(ufl.nabla_grad(u) + ufl.nabla_grad(u).T)\n",
    "\n",
    "\n",
    "def sigma(u):\n",
    "    return lambda_ * ufl.nabla_div(u) * ufl.Identity(len(u)) + 2 * mu * epsilon(u)\n",
    "\n",
    "\n",
    "u = ufl.TrialFunction(V)\n",
    "v = ufl.TestFunction(V)\n",
    "f = fem.Constant(domain, default_scalar_type((0, 0, -rho * g)))\n",
    "a = ufl.inner(sigma(u), epsilon(v)) * ufl.dx\n",
    "L = ufl.dot(f, v) * ufl.dx + ufl.dot(T, v) * ds"
   ]
  },
  {
   "cell_type": "code",
   "execution_count": 22,
   "metadata": {},
   "outputs": [],
   "source": [
    "problem = LinearProblem(a, L, bcs=[bc], petsc_options={\"ksp_type\": \"preonly\", \"pc_type\": \"lu\"})\n",
    "uh = problem.solve()"
   ]
  },
  {
   "cell_type": "code",
   "execution_count": 23,
   "metadata": {},
   "outputs": [
    {
     "data": {
      "application/vnd.jupyter.widget-view+json": {
       "model_id": "0c5d457e5dc64d04ad1610edbe03ddad",
       "version_major": 2,
       "version_minor": 0
      },
      "text/plain": [
       "Widget(value=\"<iframe src='http://localhost:36051/index.html?ui=P_0x7f0778cb8ed0_0&reconnect=auto' style='widt…"
      ]
     },
     "metadata": {},
     "output_type": "display_data"
    }
   ],
   "source": [
    "pyvista.start_xvfb()\n",
    "\n",
    "# Create plotter and pyvista grid\n",
    "p = pyvista.Plotter()\n",
    "topology, cell_types, geometry = plot.vtk_mesh(V)\n",
    "grid = pyvista.UnstructuredGrid(topology, cell_types, geometry)\n",
    "\n",
    "# Attach vector values to grid and warp grid by vector\n",
    "grid[\"u\"] = uh.x.array.reshape((geometry.shape[0], 3))\n",
    "#actor_0 = p.add_mesh(grid, style=\"wireframe\", color=\"k\")\n",
    "warped = grid.warp_by_vector(\"u\", factor=1.5)\n",
    "actor_1 = p.add_mesh(warped, show_edges=False)\n",
    "p.show_axes()\n",
    "if not pyvista.OFF_SCREEN:\n",
    "    p.show()\n",
    "else:\n",
    "    figure_as_array = p.screenshot(\"deflection.png\")"
   ]
  },
  {
   "cell_type": "code",
   "execution_count": 24,
   "metadata": {},
   "outputs": [],
   "source": [
    "with io.XDMFFile(domain.comm, \"deformation.xdmf\", \"w\") as xdmf:\n",
    "    xdmf.write_mesh(domain)\n",
    "    uh.name = \"Deformation\"\n",
    "    xdmf.write_function(uh)"
   ]
  },
  {
   "cell_type": "code",
   "execution_count": 25,
   "metadata": {},
   "outputs": [],
   "source": [
    "s = sigma(uh) - 1. / 3 * ufl.tr(sigma(uh)) * ufl.Identity(len(uh))\n",
    "von_Mises = ufl.sqrt(3. / 2 * ufl.inner(s, s))"
   ]
  },
  {
   "cell_type": "markdown",
   "metadata": {},
   "source": []
  },
  {
   "cell_type": "code",
   "execution_count": 26,
   "metadata": {},
   "outputs": [],
   "source": [
    "V_von_mises = fem.FunctionSpace(domain, (\"DG\", 0))\n",
    "stress_expr = fem.Expression(von_Mises, V_von_mises.element.interpolation_points())\n",
    "stresses = fem.Function(V_von_mises)\n",
    "stresses.interpolate(stress_expr)"
   ]
  },
  {
   "cell_type": "code",
   "execution_count": 27,
   "metadata": {},
   "outputs": [
    {
     "data": {
      "application/vnd.jupyter.widget-view+json": {
       "model_id": "77da5ca447f54d189c4e1b76c1f2c377",
       "version_major": 2,
       "version_minor": 0
      },
      "text/plain": [
       "Widget(value=\"<iframe src='http://localhost:36051/index.html?ui=P_0x7f0778da2450_1&reconnect=auto' style='widt…"
      ]
     },
     "metadata": {},
     "output_type": "display_data"
    }
   ],
   "source": [
    "warped.cell_data[\"VonMises\"] = stresses.vector.array\n",
    "warped.set_active_scalars(\"VonMises\")\n",
    "p = pyvista.Plotter()\n",
    "p.add_mesh(warped)\n",
    "p.show_axes()\n",
    "if not pyvista.OFF_SCREEN:\n",
    "    p.show()\n",
    "else:\n",
    "    stress_figure = p.screenshot(f\"stresses.png\")"
   ]
  },
  {
   "cell_type": "code",
   "execution_count": 28,
   "metadata": {},
   "outputs": [],
   "source": [
    "gdim = domain.geometry.dim\n",
    "Stress = fem.VectorFunctionSpace(domain, (\"Discontinuous Lagrange\", 0, (gdim,)), 9)\n",
    "stress = fem.Function(Stress)\n",
    "stress_expr = fem.Expression(sigma(uh), Stress.element.interpolation_points())"
   ]
  },
  {
   "cell_type": "code",
   "execution_count": 29,
   "metadata": {},
   "outputs": [],
   "source": [
    "stress.interpolate(stress_expr)"
   ]
  },
  {
   "cell_type": "code",
   "execution_count": 30,
   "metadata": {},
   "outputs": [
    {
     "data": {
      "text/plain": [
       "array([[-1366.13995845,  -370.79592725,   -99.96917226],\n",
       "       [ -370.79592725,   -98.04749195,   -27.46241712],\n",
       "       [  -99.96917226,   -27.46241712,    34.47480182]])"
      ]
     },
     "execution_count": 30,
     "metadata": {},
     "output_type": "execute_result"
    }
   ],
   "source": [
    "stress.x.array.reshape((142439, 3, 3))[0]"
   ]
  },
  {
   "cell_type": "code",
   "execution_count": 31,
   "metadata": {},
   "outputs": [],
   "source": [
    "stress_array = stress.x.array.reshape((142439, 3, 3))"
   ]
  },
  {
   "cell_type": "code",
   "execution_count": 32,
   "metadata": {},
   "outputs": [],
   "source": [
    "def rot_mat(rot_z, rot_y, rot_x):\n",
    "    a = rot_z\n",
    "    b = rot_y\n",
    "    y = rot_x\n",
    "    mat = np.array([[np.cos(a)*np.cos(b), np.cos(a)*np.sin(b)*np.sin(y) - np.sin(a)*np.cos(y), np.cos(a)*np.sin(b)*np.cos(y) + np.sin(a)*np.sin(y)],[np.sin(a)*np.cos(b), np.sin(a)*np.sin(b)*np.sin(y) + np.cos(a)*np.cos(y), np.sin(a)*np.sin(b)*np.cos(y) - np.cos(a)*np.sin(y)], [-1*np.sin(b), np.cos(b)*np.sin(y), np.cos(b)*np.cos(y)]])\n",
    "    return mat\n",
    "\n",
    "\n",
    "def h_eigenvalues(mat):\n",
    "    a = mat[0, 0]\n",
    "    b = mat[1, 1]\n",
    "    c = mat[0, 1]\n",
    "\n",
    "    l1 = (a + b - np.sqrt(4 * c ** 2 + (a - b) ** 2)) / 2\n",
    "    l2 = (a + b + np.sqrt(4 * c ** 2 + (a - b) ** 2)) / 2\n",
    "    return l1, l2\n",
    "\n",
    "\n",
    "def r_index(mat):\n",
    "    l1, l2 = h_eigenvalues(mat)\n",
    "    return (1/np.sqrt(l1)) - (1/np.sqrt(l2))\n",
    "\n",
    "\n",
    "def stress(s1, s2, s3, s4, s5, s6):\n",
    "    arr = np.array([s1, s2, s3, s4, s5, s6])\n",
    "    return arr\n",
    "\n",
    "\n",
    "def photoelastic(p11, p12, p44):\n",
    "    arr = np.array([[p11, p12, p12, 0, 0, 0], [p12, p11, p12, 0,0,0], [p12, p12, p11, 0,0,0],[0,0,0,p44,0,0],[0,0,0,0,p44,0],[0,0,0,0,0,p44]])\n",
    "    return arr\n",
    "\n",
    "\n",
    "def elastic(PR, YM):\n",
    "    arr = np.array([[1, -1*PR, -1*PR,0,0,0],[-1*PR, 1, -1*PR, 0,0,0], [-1*PR, -1*PR, 1,0,0,0],[0,0,0,1+PR,0,0],[0,0,0,0,1+PR,0],[0,0,0,0,0,1+PR]])\n",
    "    arr = arr * (1/YM)\n",
    "    return arr\n",
    "\n",
    "\n",
    "def delta_b(PR, YM, p11, p12, p44, s1, s2, s3, s4, s5, s6):\n",
    "    arr = np.dot(photoelastic(p11, p12, p44), np.dot(elastic(PR, YM), stress(s1, s2, s3, s4, s5, s6)))\n",
    "    return arr\n",
    "\n",
    "\n",
    "def b_0(nx, ny, nz):\n",
    "    arr = np.array([1/(nx**2), 1/(ny**2), 1/(nz**2), 0,0,0])\n",
    "    return arr\n",
    "\n",
    "\n",
    "def b_new(PR, YM, s1, s2, s3, s4, s5, s6, p11, p12, p44, nx, ny, nz):\n",
    "    delB = delta_b(PR, YM, p11, p12, p44, s1, s2, s3, s4, s5, s6)\n",
    "    B0 = b_0(nx, ny, nz)\n",
    "    B = delB + B0\n",
    "    arr2 = np.array([[B[0], B[5], B[4]], [B[5], B[1], B[3]], [B[4], B[3], B[2]]])\n",
    "    return arr2\n",
    "\n",
    "\n",
    "def birefringence(rot_z, rot_x, rot_y, PR, YM, s1, s2, s3, s4, s5, s6, p11, p12, p44, nx, ny, nz):\n",
    "    b = b_new(PR, YM, s1, s2, s3, s4, s5, s6, p11, p12, p44, nx, ny, nz)\n",
    "    rot = rot_mat(rot_z, rot_x, rot_y)\n",
    "    rotated = np.dot(rot, np.dot(b, np.linalg.inv(rot)))\n",
    "    small_b = rotated[1:, 1:]\n",
    "    delta_n = r_index(small_b)\n",
    "    return delta_n\n"
   ]
  },
  {
   "cell_type": "code",
   "execution_count": 33,
   "metadata": {},
   "outputs": [
    {
     "data": {
      "text/plain": [
       "142439"
      ]
     },
     "execution_count": 33,
     "metadata": {},
     "output_type": "execute_result"
    }
   ],
   "source": [
    "stress_array.shape[0]"
   ]
  },
  {
   "cell_type": "code",
   "execution_count": 36,
   "metadata": {},
   "outputs": [],
   "source": [
    "npoints = stress_array.shape[0]\n",
    "dn = np.zeros(npoints)\n",
    "for x in range(npoints):\n",
    "    a = stress_array[x]\n",
    "    dn[x] = birefringence(rot_z=0, rot_x=0, rot_y=0, PR=0.27, YM=130e9, s1=a[0,0], s2=a[1,1], s3=a[2,2],s4= a[1,2], s5=a[0,2],s6=a[0,1], p11=-0.094, p12=0.017,p44= -0.051, nx=3.48, ny=3.48, nz=3.48)\n"
   ]
  },
  {
   "cell_type": "code",
   "execution_count": 46,
   "metadata": {},
   "outputs": [
    {
     "data": {
      "application/vnd.jupyter.widget-view+json": {
       "model_id": "c6732b8515ac41dda1f88e56493bbd66",
       "version_major": 2,
       "version_minor": 0
      },
      "text/plain": [
       "Widget(value=\"<iframe src='http://localhost:36051/index.html?ui=P_0x7f07285b4810_9&reconnect=auto' style='widt…"
      ]
     },
     "metadata": {},
     "output_type": "display_data"
    }
   ],
   "source": [
    "pyvista.global_theme.cmap = 'jet'\n",
    "warped.cell_data[\"Birefringence\"] = dn\n",
    "warped.set_active_scalars(\"Birefringence\")\n",
    "p = pyvista.Plotter()\n",
    "p.add_mesh(warped, clim=[0, 5e-8])\n",
    "p.show_axes()\n",
    "if not pyvista.OFF_SCREEN:\n",
    "    p.show()\n",
    "else:\n",
    "    stress_figure = p.screenshot(f\"stresses.png\")"
   ]
  },
  {
   "cell_type": "code",
   "execution_count": 39,
   "metadata": {},
   "outputs": [],
   "source": [
    "dn2 = np.zeros(npoints)\n",
    "for x in range(npoints):\n",
    "    a = stress_array[x]\n",
    "    dn2[x] = birefringence(rot_z=0.2, rot_x=0, rot_y=0, PR=0.27, YM=130e9, s1=a[0,0], s2=a[1,1], s3=a[2,2],s4= a[1,2], s5=a[0,2],s6=a[0,1], p11=-0.094, p12=0.017,p44= -0.051, nx=3.48, ny=3.48, nz=3.48)\n"
   ]
  },
  {
   "cell_type": "code",
   "execution_count": 47,
   "metadata": {},
   "outputs": [
    {
     "data": {
      "application/vnd.jupyter.widget-view+json": {
       "model_id": "f6af4a07f8694f5d99949f810e35610b",
       "version_major": 2,
       "version_minor": 0
      },
      "text/plain": [
       "Widget(value=\"<iframe src='http://localhost:36051/index.html?ui=P_0x7f072879bd50_10&reconnect=auto' style='wid…"
      ]
     },
     "metadata": {},
     "output_type": "display_data"
    }
   ],
   "source": [
    "warped.cell_data[\"BirefringenceBS\"] = dn2\n",
    "warped.set_active_scalars(\"BirefringenceBS\")\n",
    "p = pyvista.Plotter()\n",
    "p.add_mesh(warped, clim=[0, 5e-8])\n",
    "p.show_axes()\n",
    "if not pyvista.OFF_SCREEN:\n",
    "    p.show()\n",
    "else:\n",
    "    stress_figure = p.screenshot(f\"stresses_BS.png\")"
   ]
  }
 ],
 "metadata": {
  "kernelspec": {
   "display_name": "fenicsx-env",
   "language": "python",
   "name": "python3"
  },
  "language_info": {
   "codemirror_mode": {
    "name": "ipython",
    "version": 3
   },
   "file_extension": ".py",
   "mimetype": "text/x-python",
   "name": "python",
   "nbconvert_exporter": "python",
   "pygments_lexer": "ipython3",
   "version": "3.11.6"
  }
 },
 "nbformat": 4,
 "nbformat_minor": 2
}
