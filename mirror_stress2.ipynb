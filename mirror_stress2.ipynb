{
 "cells": [
  {
   "cell_type": "code",
   "execution_count": 1,
   "metadata": {},
   "outputs": [],
   "source": [
    "from dolfinx.io import XDMFFile\n",
    "from dolfinx.mesh import meshtags_from_entities\n",
    "from dolfinx.cpp.mesh import cell_entity_type\n",
    "from dolfinx.io import distribute_entity_data\n",
    "from dolfinx.graph import adjacencylist\n",
    "from dolfinx.mesh import create_mesh\n",
    "from dolfinx.cpp.mesh import to_type\n",
    "from dolfinx.cpp.io import perm_gmsh\n",
    "import numpy\n",
    "from dolfinx.io import gmshio\n",
    "from mpi4py import MPI\n",
    "from dolfinx.io.gmshio import model_to_mesh\n",
    "import numpy as np\n",
    "import gmsh\n",
    "import warnings\n",
    "warnings.filterwarnings(\"ignore\")\n",
    "gmsh.initialize()"
   ]
  },
  {
   "cell_type": "markdown",
   "metadata": {},
   "source": [
    "The first step is to create the mesh that we will be performing the analysis on. In this case it will be a model of the silicon test masses for the Gingin 7m cavity project. These are 10cm in diameter and 3cm thick. They have a circular cross section with flat sections on two edges. \n",
    "\n",
    "To create the mesh we will be using the python API for gmsh. An open source software for creating finite element models. We have already initialised gmsh which must be done prior to using it. We then add the model \"test_mass\" to gmsh."
   ]
  },
  {
   "cell_type": "code",
   "execution_count": 2,
   "metadata": {},
   "outputs": [],
   "source": [
    "gmsh.model.add(\"test_mass\")"
   ]
  },
  {
   "cell_type": "code",
   "execution_count": 3,
   "metadata": {},
   "outputs": [],
   "source": [
    "cad = gmsh.model.geo\n",
    "lc = 0.002\n"
   ]
  },
  {
   "cell_type": "markdown",
   "metadata": {},
   "source": [
    "The variable lc will determine the mesh size. To create the model we begin by defing several points and then connecting them with lines. We then define a line loop which allows a surface to be created. We extrude this surface to create the volume."
   ]
  },
  {
   "cell_type": "code",
   "execution_count": 4,
   "metadata": {},
   "outputs": [
    {
     "data": {
      "text/plain": [
       "11"
      ]
     },
     "execution_count": 4,
     "metadata": {},
     "output_type": "execute_result"
    }
   ],
   "source": [
    "cad.addPoint(0, -0.05, 0.01, lc, 1)\n",
    "cad.addPoint(0, 0.05, 0.01, lc, 2)\n",
    "cad.addPoint(0, 0.05, -0.01, lc, 3)\n",
    "cad.addPoint(0, -0.05, -0.01, lc, 4)\n",
    "cad.addPoint(0,0,0, lc, 5)\n",
    "cad.addLine(2, 3, 1)\n",
    "cad.addLine(4, 1, 2)\n",
    "cad.addCircleArc(1, 5, 2, 3)\n",
    "cad.addCircleArc(3, 5, 4, 4)\n",
    "cad.addCurveLoop([3, 1, 4, 2 ], 10)\n",
    "cad.addPlaneSurface([10], 11)"
   ]
  },
  {
   "cell_type": "code",
   "execution_count": 5,
   "metadata": {},
   "outputs": [],
   "source": [
    "vol = cad.extrude([(2, 11)], 0.03,0,0 )"
   ]
  },
  {
   "cell_type": "markdown",
   "metadata": {},
   "source": [
    "We must then synchronise the model so that the various pieces are combined"
   ]
  },
  {
   "cell_type": "code",
   "execution_count": 6,
   "metadata": {},
   "outputs": [],
   "source": [
    "cad.synchronize()"
   ]
  },
  {
   "cell_type": "code",
   "execution_count": 7,
   "metadata": {},
   "outputs": [
    {
     "name": "stdout",
     "output_type": "stream",
     "text": [
      "[(2, 33), (3, 1), (2, 20), (2, 24), (2, 28), (2, 32)]\n"
     ]
    }
   ],
   "source": [
    "print(vol)"
   ]
  },
  {
   "cell_type": "markdown",
   "metadata": {},
   "source": [
    "We then have to tell gmsh which elements are physical groups. We define two physical groups one for the volume and another for the surface of the model."
   ]
  },
  {
   "cell_type": "code",
   "execution_count": 8,
   "metadata": {},
   "outputs": [
    {
     "data": {
      "text/plain": [
       "42"
      ]
     },
     "execution_count": 8,
     "metadata": {},
     "output_type": "execute_result"
    }
   ],
   "source": [
    "gmsh.model.addPhysicalGroup(3, [vol[1][1]], 41, \"volume\")\n",
    "gmsh.model.addPhysicalGroup(2, [vol[0][1],vol[2][1], vol[3][1], vol[4][1], vol[5][1]], 42, \"surface\")\n",
    "\n",
    "\n",
    "\n"
   ]
  },
  {
   "cell_type": "markdown",
   "metadata": {},
   "source": [
    "Now we are able to generate the mesh"
   ]
  },
  {
   "cell_type": "code",
   "execution_count": 9,
   "metadata": {},
   "outputs": [
    {
     "name": "stdout",
     "output_type": "stream",
     "text": [
      "Info    : Meshing 1D...\n",
      "Info    : [  0%] Meshing curve 1 (Line)\n",
      "Info    : [ 10%] Meshing curve 2 (Line)\n",
      "Info    : [ 20%] Meshing curve 3 (Circle)\n",
      "Info    : [ 30%] Meshing curve 4 (Circle)\n",
      "Info    : [ 40%] Meshing curve 13 (Circle)\n",
      "Info    : [ 50%] Meshing curve 14 (Line)\n",
      "Info    : [ 50%] Meshing curve 15 (Circle)\n",
      "Info    : [ 60%] Meshing curve 16 (Line)\n",
      "Info    : [ 70%] Meshing curve 18 (Line)\n",
      "Info    : [ 80%] Meshing curve 19 (Line)\n",
      "Info    : [ 90%] Meshing curve 23 (Line)\n",
      "Info    : [100%] Meshing curve 27 (Line)\n",
      "Info    : Done meshing 1D (Wall 0.0017634s, CPU 0.00303s)\n",
      "Info    : Meshing 2D...\n",
      "Info    : [  0%] Meshing surface 11 (Plane, Frontal-Delaunay)\n",
      "Info    : [ 20%] Meshing surface 20 (Surface, Frontal-Delaunay)\n",
      "Info    : [ 40%] Meshing surface 24 (Surface, Frontal-Delaunay)\n",
      "Info    : [ 50%] Meshing surface 28 (Surface, Frontal-Delaunay)\n",
      "Info    : [ 70%] Meshing surface 32 (Surface, Frontal-Delaunay)\n",
      "Info    : [ 90%] Meshing surface 33 (Plane, Frontal-Delaunay)\n",
      "Info    : Done meshing 2D (Wall 0.714244s, CPU 0.682664s)\n",
      "Info    : Meshing 3D...\n",
      "Info    : 3D Meshing 1 volume with 1 connected component\n",
      "Info    : Tetrahedrizing 7781 nodes...\n",
      "Info    : Done tetrahedrizing 7789 nodes (Wall 0.335331s, CPU 0.336277s)\n",
      "Info    : Reconstructing mesh...\n",
      "Info    :  - Creating surface mesh\n",
      "Info    :  - Identifying boundary edges\n",
      "Info    :  - Recovering boundary\n",
      "Info    : Done reconstructing mesh (Wall 1.23184s, CPU 1.17798s)\n",
      "Info    : Found volume 1\n",
      "Info    : It. 0 - 0 nodes created - worst tet radius 7.63349 (nodes removed 0 0)\n",
      "Info    : It. 500 - 500 nodes created - worst tet radius 2.97363 (nodes removed 0 0)\n",
      "Info    : It. 1000 - 1000 nodes created - worst tet radius 2.47619 (nodes removed 0 0)\n",
      "Info    : It. 1500 - 1500 nodes created - worst tet radius 2.17278 (nodes removed 0 0)\n",
      "Info    : It. 2000 - 2000 nodes created - worst tet radius 1.98793 (nodes removed 0 0)\n",
      "Info    : It. 2500 - 2500 nodes created - worst tet radius 1.86668 (nodes removed 0 0)\n",
      "Info    : It. 3000 - 3000 nodes created - worst tet radius 1.77038 (nodes removed 0 0)\n",
      "Info    : It. 3500 - 3500 nodes created - worst tet radius 1.69007 (nodes removed 0 0)\n",
      "Info    : It. 4000 - 4000 nodes created - worst tet radius 1.62231 (nodes removed 0 0)\n",
      "Info    : It. 4500 - 4500 nodes created - worst tet radius 1.5607 (nodes removed 0 0)\n",
      "Info    : It. 5000 - 5000 nodes created - worst tet radius 1.51253 (nodes removed 0 0)\n",
      "Info    : It. 5500 - 5500 nodes created - worst tet radius 1.46768 (nodes removed 0 0)\n",
      "Info    : It. 6000 - 6000 nodes created - worst tet radius 1.42957 (nodes removed 0 0)\n",
      "Info    : It. 6500 - 6500 nodes created - worst tet radius 1.39491 (nodes removed 0 0)\n",
      "Info    : It. 7000 - 7000 nodes created - worst tet radius 1.36444 (nodes removed 0 0)\n",
      "Info    : It. 7500 - 7500 nodes created - worst tet radius 1.3355 (nodes removed 0 0)\n",
      "Info    : It. 8000 - 8000 nodes created - worst tet radius 1.30921 (nodes removed 0 0)\n",
      "Info    : It. 8500 - 8500 nodes created - worst tet radius 1.28304 (nodes removed 0 0)\n",
      "Info    : It. 9000 - 9000 nodes created - worst tet radius 1.26116 (nodes removed 0 0)\n",
      "Info    : It. 9500 - 9500 nodes created - worst tet radius 1.23901 (nodes removed 0 0)\n",
      "Info    : It. 10000 - 10000 nodes created - worst tet radius 1.22009 (nodes removed 0 0)\n",
      "Info    : It. 10500 - 10500 nodes created - worst tet radius 1.20077 (nodes removed 0 0)\n",
      "Info    : It. 11000 - 11000 nodes created - worst tet radius 1.18348 (nodes removed 0 0)\n",
      "Info    : It. 11500 - 11500 nodes created - worst tet radius 1.16669 (nodes removed 0 0)\n",
      "Info    : It. 12000 - 12000 nodes created - worst tet radius 1.15048 (nodes removed 0 0)\n",
      "Info    : It. 12500 - 12500 nodes created - worst tet radius 1.13686 (nodes removed 0 0)\n",
      "Info    : It. 13000 - 13000 nodes created - worst tet radius 1.12258 (nodes removed 0 0)\n",
      "Info    : It. 13500 - 13500 nodes created - worst tet radius 1.1102 (nodes removed 0 0)\n",
      "Info    : It. 14000 - 14000 nodes created - worst tet radius 1.09704 (nodes removed 0 0)\n",
      "Info    : It. 14500 - 14500 nodes created - worst tet radius 1.08498 (nodes removed 0 0)\n",
      "Info    : It. 15000 - 15000 nodes created - worst tet radius 1.07442 (nodes removed 0 0)\n",
      "Info    : It. 15500 - 15500 nodes created - worst tet radius 1.06274 (nodes removed 0 0)\n",
      "Info    : It. 16000 - 16000 nodes created - worst tet radius 1.05247 (nodes removed 0 0)\n",
      "Info    : It. 16500 - 16500 nodes created - worst tet radius 1.04243 (nodes removed 0 0)\n",
      "Info    : It. 17000 - 17000 nodes created - worst tet radius 1.03335 (nodes removed 0 0)\n",
      "Info    : It. 17500 - 17500 nodes created - worst tet radius 1.02501 (nodes removed 0 0)\n",
      "Info    : It. 18000 - 18000 nodes created - worst tet radius 1.01589 (nodes removed 0 0)\n",
      "Info    : It. 18500 - 18500 nodes created - worst tet radius 1.0074 (nodes removed 0 0)\n",
      "Info    : 3D refinement terminated (26743 nodes total):\n",
      "Info    :  - 0 Delaunay cavities modified for star shapeness\n",
      "Info    :  - 0 nodes could not be inserted\n",
      "Info    :  - 144911 tetrahedra created in 4.77017 sec. (30378 tets/s)\n",
      "Info    : Done meshing 3D (Wall 7.61941s, CPU 7.59503s)\n",
      "Info    : Optimizing mesh...\n",
      "Info    : Optimizing volume 1\n",
      "Info    : Optimization starts (volume = 0.00024421) with worst = 0.00608002 / average = 0.782742:\n",
      "Info    : 0.00 < quality < 0.10 :       319 elements\n",
      "Info    : 0.10 < quality < 0.20 :       890 elements\n",
      "Info    : 0.20 < quality < 0.30 :      1570 elements\n",
      "Info    : 0.30 < quality < 0.40 :      2459 elements\n",
      "Info    : 0.40 < quality < 0.50 :      3871 elements\n",
      "Info    : 0.50 < quality < 0.60 :      6355 elements\n",
      "Info    : 0.60 < quality < 0.70 :     13896 elements\n",
      "Info    : 0.70 < quality < 0.80 :     32709 elements\n",
      "Info    : 0.80 < quality < 0.90 :     54758 elements\n",
      "Info    : 0.90 < quality < 1.00 :     28084 elements\n",
      "Info    : 2747 edge swaps, 90 node relocations (volume = 0.00024421): worst = 0.186115 / average = 0.794765 (Wall 0.307425s, CPU 0.308639s)\n",
      "Info    : 2772 edge swaps, 91 node relocations (volume = 0.00024421): worst = 0.279247 / average = 0.794836 (Wall 0.42012s, CPU 0.422222s)\n",
      "Info    : 2773 edge swaps, 91 node relocations (volume = 0.00024421): worst = 0.279247 / average = 0.794842 (Wall 0.485882s, CPU 0.487901s)\n",
      "Info    : No ill-shaped tets in the mesh :-)\n",
      "Info    : 0.00 < quality < 0.10 :         0 elements\n",
      "Info    : 0.10 < quality < 0.20 :         0 elements\n",
      "Info    : 0.20 < quality < 0.30 :         1 elements\n",
      "Info    : 0.30 < quality < 0.40 :      2432 elements\n",
      "Info    : 0.40 < quality < 0.50 :      3747 elements\n",
      "Info    : 0.50 < quality < 0.60 :      6110 elements\n",
      "Info    : 0.60 < quality < 0.70 :     13860 elements\n",
      "Info    : 0.70 < quality < 0.80 :     33189 elements\n",
      "Info    : 0.80 < quality < 0.90 :     55125 elements\n",
      "Info    : 0.90 < quality < 1.00 :     27972 elements\n",
      "Info    : Done optimizing mesh (Wall 1.19443s, CPU 1.15804s)\n",
      "Info    : 26745 nodes 158388 elements\n"
     ]
    }
   ],
   "source": [
    "gmsh.model.mesh.generate(3)"
   ]
  },
  {
   "cell_type": "code",
   "execution_count": 10,
   "metadata": {},
   "outputs": [
    {
     "name": "stdout",
     "output_type": "stream",
     "text": [
      "Info    : Writing 'mirror2.msh'...\n"
     ]
    },
    {
     "name": "stdout",
     "output_type": "stream",
     "text": [
      "Info    : Done writing 'mirror2.msh'\n"
     ]
    }
   ],
   "source": [
    "gmsh.write('mirror2.msh')"
   ]
  },
  {
   "cell_type": "markdown",
   "metadata": {},
   "source": [
    "The gmsh model can now be imported into dolfinx"
   ]
  },
  {
   "cell_type": "code",
   "execution_count": 11,
   "metadata": {},
   "outputs": [],
   "source": [
    "model_rank = 0\n",
    "domain, cell_tags, facet_tags = model_to_mesh(\n",
    "    gmsh.model, MPI.COMM_WORLD, model_rank,3)"
   ]
  },
  {
   "cell_type": "code",
   "execution_count": 12,
   "metadata": {},
   "outputs": [],
   "source": [
    "import pyvista\n",
    "from dolfinx import mesh, fem, plot, io, default_scalar_type\n",
    "from dolfinx.fem.petsc import LinearProblem\n",
    "from mpi4py import MPI\n",
    "import ufl\n",
    "import numpy as np\n",
    "E = 130e9\n",
    "nu = 0.27\n",
    "mu = E / (2.0 * (1.0 + nu))\n",
    "lambda_ = E * nu / ((1.0 + nu) * (1.0 - 2.0 * nu))\n",
    "rho = 2329\n",
    "g = 9.8"
   ]
  },
  {
   "cell_type": "markdown",
   "metadata": {},
   "source": [
    "We now begin to construct the model for the finite element analysis"
   ]
  },
  {
   "cell_type": "code",
   "execution_count": 13,
   "metadata": {},
   "outputs": [],
   "source": [
    "V = fem.VectorFunctionSpace(domain, (\"Lagrange\", 1))\n",
    "    "
   ]
  },
  {
   "cell_type": "code",
   "execution_count": 33,
   "metadata": {},
   "outputs": [],
   "source": [
    "def clamped_boundary(x):\n",
    "    return np.logical_or(np.isclose(x[1], -0.05), np.isclose(x[1], 0.05))\n",
    "\n",
    "\n",
    "fdim = domain.topology.dim - 1\n",
    "boundary_facets = mesh.locate_entities_boundary(domain, fdim, clamped_boundary)\n",
    "\n"
   ]
  },
  {
   "cell_type": "code",
   "execution_count": 34,
   "metadata": {},
   "outputs": [],
   "source": [
    "u_D = np.array([0, 0, 0], dtype=default_scalar_type)\n"
   ]
  },
  {
   "cell_type": "code",
   "execution_count": 35,
   "metadata": {},
   "outputs": [],
   "source": [
    "bc = fem.dirichletbc(u_D, fem.locate_dofs_topological(V, fdim, boundary_facets), V)"
   ]
  },
  {
   "cell_type": "code",
   "execution_count": 36,
   "metadata": {},
   "outputs": [],
   "source": [
    "T = fem.Constant(domain, default_scalar_type((0, 0, 0)))"
   ]
  },
  {
   "cell_type": "code",
   "execution_count": 37,
   "metadata": {},
   "outputs": [],
   "source": [
    "ds = ufl.Measure(\"ds\", domain=domain)"
   ]
  },
  {
   "cell_type": "code",
   "execution_count": 38,
   "metadata": {},
   "outputs": [],
   "source": [
    "def epsilon(u):\n",
    "    return ufl.sym(ufl.grad(u))  # Equivalent to 0.5*(ufl.nabla_grad(u) + ufl.nabla_grad(u).T)\n",
    "\n",
    "\n",
    "def sigma(u):\n",
    "    return lambda_ * ufl.nabla_div(u) * ufl.Identity(len(u)) + 2 * mu * epsilon(u)\n",
    "\n",
    "\n",
    "u = ufl.TrialFunction(V)\n",
    "v = ufl.TestFunction(V)\n",
    "f = fem.Constant(domain, default_scalar_type((0, 0, -rho * g)))\n",
    "a = ufl.inner(sigma(u), epsilon(v)) * ufl.dx\n",
    "L = ufl.dot(f, v) * ufl.dx + ufl.dot(T, v) * ds"
   ]
  },
  {
   "cell_type": "code",
   "execution_count": 39,
   "metadata": {},
   "outputs": [],
   "source": [
    "problem = LinearProblem(a, L, bcs=[bc], petsc_options={\"ksp_type\": \"preonly\", \"pc_type\": \"lu\"})\n",
    "uh = problem.solve()"
   ]
  },
  {
   "cell_type": "markdown",
   "metadata": {},
   "source": [
    "The solver will return the solution with the displacement this can then be plotted in pyvista"
   ]
  },
  {
   "cell_type": "code",
   "execution_count": 40,
   "metadata": {},
   "outputs": [
    {
     "data": {
      "application/vnd.jupyter.widget-view+json": {
       "model_id": "7d28ab8b1c4f4172b2323fa3bee0ce75",
       "version_major": 2,
       "version_minor": 0
      },
      "text/plain": [
       "Widget(value=\"<iframe src='http://localhost:46817/index.html?ui=P_0x7fa9880c4250_4&reconnect=auto' style='widt…"
      ]
     },
     "metadata": {},
     "output_type": "display_data"
    }
   ],
   "source": [
    "pyvista.start_xvfb()\n",
    "\n",
    "# Create plotter and pyvista grid\n",
    "p = pyvista.Plotter()\n",
    "topology, cell_types, geometry = plot.vtk_mesh(V)\n",
    "grid = pyvista.UnstructuredGrid(topology, cell_types, geometry)\n",
    "\n",
    "# Attach vector values to grid and warp grid by vector\n",
    "grid[\"u\"] = uh.x.array.reshape((geometry.shape[0], 3))\n",
    "#actor_0 = p.add_mesh(grid, style=\"wireframe\", color=\"k\")\n",
    "warped = grid.warp_by_vector(\"u\", factor=1.5)\n",
    "actor_1 = p.add_mesh(warped, show_edges=False)\n",
    "p.show_axes()\n",
    "if not pyvista.OFF_SCREEN:\n",
    "    p.show()\n",
    "else:\n",
    "    figure_as_array = p.screenshot(\"deflection.png\")"
   ]
  },
  {
   "cell_type": "code",
   "execution_count": 41,
   "metadata": {},
   "outputs": [],
   "source": [
    "with io.XDMFFile(domain.comm, \"deformation.xdmf\", \"w\") as xdmf:\n",
    "    xdmf.write_mesh(domain)\n",
    "    uh.name = \"Deformation\"\n",
    "    xdmf.write_function(uh)"
   ]
  },
  {
   "cell_type": "markdown",
   "metadata": {},
   "source": [
    "Now we want to convert from the deformation to the stress tensor. In order to do this we must create a new vector space and interpolate onto it with our expression for the stress tensor"
   ]
  },
  {
   "cell_type": "code",
   "execution_count": 42,
   "metadata": {},
   "outputs": [],
   "source": [
    "gdim = domain.geometry.dim\n",
    "Stress = fem.VectorFunctionSpace(domain, (\"Discontinuous Lagrange\", 0, (gdim,)), 9)\n",
    "stress = fem.Function(Stress)\n",
    "stress_expr = fem.Expression(sigma(uh), Stress.element.interpolation_points())"
   ]
  },
  {
   "cell_type": "code",
   "execution_count": 43,
   "metadata": {},
   "outputs": [],
   "source": [
    "stress.interpolate(stress_expr)"
   ]
  },
  {
   "cell_type": "code",
   "execution_count": 44,
   "metadata": {},
   "outputs": [],
   "source": [
    "stress_array = stress.x.array.reshape((int(stress.x.array.shape[0]/9), 3, 3))"
   ]
  },
  {
   "cell_type": "markdown",
   "metadata": {},
   "source": [
    "Now we just define our functions for calculating the birefringence and find the birefringence of each element"
   ]
  },
  {
   "cell_type": "code",
   "execution_count": 45,
   "metadata": {},
   "outputs": [],
   "source": [
    "def rot_mat(rot_z, rot_y, rot_x):\n",
    "    a = rot_z\n",
    "    b = rot_y\n",
    "    y = rot_x\n",
    "    mat = np.array([[np.cos(a)*np.cos(b), np.cos(a)*np.sin(b)*np.sin(y) - np.sin(a)*np.cos(y), np.cos(a)*np.sin(b)*np.cos(y) + np.sin(a)*np.sin(y)],[np.sin(a)*np.cos(b), np.sin(a)*np.sin(b)*np.sin(y) + np.cos(a)*np.cos(y), np.sin(a)*np.sin(b)*np.cos(y) - np.cos(a)*np.sin(y)], [-1*np.sin(b), np.cos(b)*np.sin(y), np.cos(b)*np.cos(y)]])\n",
    "    return mat\n",
    "\n",
    "\n",
    "def h_eigenvalues(mat):\n",
    "    a = mat[0, 0]\n",
    "    b = mat[1, 1]\n",
    "    c = mat[0, 1]\n",
    "\n",
    "    l1 = (a + b - np.sqrt(4 * c ** 2 + (a - b) ** 2)) / 2\n",
    "    l2 = (a + b + np.sqrt(4 * c ** 2 + (a - b) ** 2)) / 2\n",
    "    return l1, l2\n",
    "\n",
    "\n",
    "def r_index(mat):\n",
    "    l1, l2 = h_eigenvalues(mat)\n",
    "    return (1/np.sqrt(l1)) - (1/np.sqrt(l2))\n",
    "\n",
    "\n",
    "def stress(s1, s2, s3, s4, s5, s6):\n",
    "    arr = np.array([s1, s2, s3, s4, s5, s6])\n",
    "    return arr\n",
    "\n",
    "\n",
    "def photoelastic(p11, p12, p44):\n",
    "    arr = np.array([[p11, p12, p12, 0, 0, 0], [p12, p11, p12, 0,0,0], [p12, p12, p11, 0,0,0],[0,0,0,p44,0,0],[0,0,0,0,p44,0],[0,0,0,0,0,p44]])\n",
    "    return arr\n",
    "\n",
    "\n",
    "def elastic(PR, YM):\n",
    "    arr = np.array([[1, -1*PR, -1*PR,0,0,0],[-1*PR, 1, -1*PR, 0,0,0], [-1*PR, -1*PR, 1,0,0,0],[0,0,0,1+PR,0,0],[0,0,0,0,1+PR,0],[0,0,0,0,0,1+PR]])\n",
    "    arr = arr * (1/YM)\n",
    "    return arr\n",
    "\n",
    "\n",
    "def delta_b(PR, YM, p11, p12, p44, s1, s2, s3, s4, s5, s6):\n",
    "    arr = np.dot(photoelastic(p11, p12, p44), np.dot(elastic(PR, YM), stress(s1, s2, s3, s4, s5, s6)))\n",
    "    return arr\n",
    "\n",
    "\n",
    "def b_0(nx, ny, nz):\n",
    "    arr = np.array([1/(nx**2), 1/(ny**2), 1/(nz**2), 0,0,0])\n",
    "    return arr\n",
    "\n",
    "\n",
    "def b_new(PR, YM, s1, s2, s3, s4, s5, s6, p11, p12, p44, nx, ny, nz):\n",
    "    delB = delta_b(PR, YM, p11, p12, p44, s1, s2, s3, s4, s5, s6)\n",
    "    B0 = b_0(nx, ny, nz)\n",
    "    B = delB + B0\n",
    "    arr2 = np.array([[B[0], B[5], B[4]], [B[5], B[1], B[3]], [B[4], B[3], B[2]]])\n",
    "    return arr2\n",
    "\n",
    "\n",
    "def birefringence(rot_z, rot_x, rot_y, PR, YM, s1, s2, s3, s4, s5, s6, p11, p12, p44, nx, ny, nz):\n",
    "    b = b_new(PR, YM, s1, s2, s3, s4, s5, s6, p11, p12, p44, nx, ny, nz)\n",
    "    rot = rot_mat(rot_z, rot_x, rot_y)\n",
    "    rotated = np.dot(rot, np.dot(b, np.linalg.inv(rot)))\n",
    "    small_b = rotated[1:, 1:]\n",
    "    delta_n = r_index(small_b)\n",
    "    return delta_n\n"
   ]
  },
  {
   "cell_type": "code",
   "execution_count": 46,
   "metadata": {},
   "outputs": [],
   "source": [
    "npoints = stress_array.shape[0]\n",
    "dn = np.zeros(npoints)\n",
    "for x in range(npoints):\n",
    "    a = stress_array[x]\n",
    "    dn[x] = birefringence(rot_z=0, rot_x=0, rot_y=0, PR=0.27, YM=130e9, s1=a[0,0], s2=a[1,1], s3=a[2,2],s4= a[1,2], s5=a[0,2],s6=a[0,1], p11=-0.094, p12=0.017,p44= -0.051, nx=3.48, ny=3.48, nz=3.48)\n"
   ]
  },
  {
   "cell_type": "markdown",
   "metadata": {},
   "source": [
    "Now we can plot the birefringence and we can observe that this is very close to what was observed"
   ]
  },
  {
   "cell_type": "code",
   "execution_count": 64,
   "metadata": {},
   "outputs": [
    {
     "data": {
      "application/vnd.jupyter.widget-view+json": {
       "model_id": "7c3435c54b8d42129e00f3218002c256",
       "version_major": 2,
       "version_minor": 0
      },
      "text/plain": [
       "Widget(value=\"<iframe src='http://localhost:46817/index.html?ui=P_0x7fa9881012d0_18&reconnect=auto' style='wid…"
      ]
     },
     "metadata": {},
     "output_type": "display_data"
    }
   ],
   "source": [
    "pyvista.global_theme.cmap = 'jet'\n",
    "warped.cell_data[\"Birefringence\"] = dn\n",
    "warped.set_active_scalars(\"Birefringence\")\n",
    "p = pyvista.Plotter()\n",
    "p.add_mesh(warped, clim=[0, 1e-7])\n",
    "p.show_axes()\n",
    "if not pyvista.OFF_SCREEN:\n",
    "    p.show()\n",
    "else:\n",
    "    stress_figure = p.screenshot(f\"stresses.png\")"
   ]
  },
  {
   "cell_type": "code",
   "execution_count": 48,
   "metadata": {},
   "outputs": [],
   "source": [
    "dn2 = np.zeros(npoints)\n",
    "for x in range(npoints):\n",
    "    a = stress_array[x]\n",
    "    dn2[x] = birefringence(rot_z=0.2, rot_x=0, rot_y=0, PR=0.27, YM=130e9, s1=a[0,0], s2=a[1,1], s3=a[2,2],s4= a[1,2], s5=a[0,2],s6=a[0,1], p11=-0.094, p12=0.017,p44= -0.051, nx=3.48, ny=3.48, nz=3.48)\n"
   ]
  },
  {
   "cell_type": "code",
   "execution_count": 58,
   "metadata": {},
   "outputs": [
    {
     "data": {
      "application/vnd.jupyter.widget-view+json": {
       "model_id": "d7ce0a1c84aa47cb92708948a036ae42",
       "version_major": 2,
       "version_minor": 0
      },
      "text/plain": [
       "Widget(value=\"<iframe src='http://localhost:46817/index.html?ui=P_0x7fa98ac9ead0_15&reconnect=auto' style='wid…"
      ]
     },
     "metadata": {},
     "output_type": "display_data"
    }
   ],
   "source": [
    "warped.cell_data[\"BirefringenceBS\"] = dn2\n",
    "warped.set_active_scalars(\"BirefringenceBS\")\n",
    "p = pyvista.Plotter()\n",
    "p.add_mesh(warped, clim=[0, 1e-7])\n",
    "p.show_axes()\n",
    "if not pyvista.OFF_SCREEN:\n",
    "    p.show()\n",
    "else:\n",
    "    stress_figure = p.screenshot(f\"stresses_BS.png\")"
   ]
  },
  {
   "cell_type": "code",
   "execution_count": 66,
   "metadata": {},
   "outputs": [
    {
     "data": {
      "application/vnd.jupyter.widget-view+json": {
       "model_id": "c96145ce8344418aacd013f22011b6b4",
       "version_major": 2,
       "version_minor": 0
      },
      "text/plain": [
       "Widget(value=\"<iframe src='http://localhost:46817/index.html?ui=P_0x7fa9880fc310_20&reconnect=auto' style='wid…"
      ]
     },
     "metadata": {},
     "output_type": "display_data"
    }
   ],
   "source": [
    "warped.cell_data[\"BirefringenceDiff\"] = dn2-dn\n",
    "warped.set_active_scalars(\"BirefringenceDiff\")\n",
    "p = pyvista.Plotter()\n",
    "p.add_mesh(warped, clim=[-1e-9, 0])\n",
    "p.show_axes()\n",
    "if not pyvista.OFF_SCREEN:\n",
    "    p.show()\n",
    "else:\n",
    "    stress_figure = p.screenshot(f\"stresses_Diff.png\")"
   ]
  },
  {
   "cell_type": "code",
   "execution_count": null,
   "metadata": {},
   "outputs": [],
   "source": []
  }
 ],
 "metadata": {
  "kernelspec": {
   "display_name": "fenicsx-env",
   "language": "python",
   "name": "python3"
  },
  "language_info": {
   "codemirror_mode": {
    "name": "ipython",
    "version": 3
   },
   "file_extension": ".py",
   "mimetype": "text/x-python",
   "name": "python",
   "nbconvert_exporter": "python",
   "pygments_lexer": "ipython3",
   "version": "3.11.6"
  }
 },
 "nbformat": 4,
 "nbformat_minor": 2
}
